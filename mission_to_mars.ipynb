{
 "cells": [
  {
   "cell_type": "code",
   "execution_count": 106,
   "metadata": {},
   "outputs": [],
   "source": [
    "import pandas as pd\n",
    "import html5lib\n",
    "import os\n",
    "from bs4 import BeautifulSoup as bs\n",
    "from splinter import Browser\n",
    "import pprint"
   ]
  },
  {
   "cell_type": "code",
   "execution_count": 107,
   "metadata": {},
   "outputs": [],
   "source": [
    "# MARS TITLE & PARAGRAPH EXTRACTION\n",
    "\n",
    "filepath = os.path.join(\"Resources\", \"News – NASA’s Mars Exploration Program.html\")\n",
    "with open(filepath) as file:\n",
    "    html = file.read()"
   ]
  },
  {
   "cell_type": "code",
   "execution_count": 108,
   "metadata": {},
   "outputs": [],
   "source": [
    "soup = bs(html, 'lxml')"
   ]
  },
  {
   "cell_type": "code",
   "execution_count": 109,
   "metadata": {},
   "outputs": [
    {
     "name": "stdout",
     "output_type": "stream",
     "text": [
      "News  – NASA’s Mars Exploration Program \n"
     ]
    }
   ],
   "source": [
    "# Extract title text\n",
    "title = soup.title.text\n",
    "print(title)"
   ]
  },
  {
   "cell_type": "code",
   "execution_count": 110,
   "metadata": {},
   "outputs": [
    {
     "name": "stdout",
     "output_type": "stream",
     "text": [
      "Managed by the Mars Exploration Program and the Jet Propulsion Laboratory for NASA’s Science Mission Directorate\n"
     ]
    }
   ],
   "source": [
    "# Print all paragraph texts\n",
    "paragraphs = soup.find_all('p')\n",
    "for paragraph in paragraphs:\n",
    "    print(paragraph.text)"
   ]
  },
  {
   "cell_type": "code",
   "execution_count": 111,
   "metadata": {},
   "outputs": [
    {
     "name": "stdout",
     "output_type": "stream",
     "text": [
      "/usr/local/bin/chromedriver\r\n"
     ]
    }
   ],
   "source": [
    "# SPLINTER TASK\n",
    "\n",
    "# https://splinter.readthedocs.io/en/latest/drivers/chrome.html\n",
    "!which chromedriver"
   ]
  },
  {
   "cell_type": "code",
   "execution_count": 112,
   "metadata": {},
   "outputs": [],
   "source": [
    "executable_path = {'executable_path': '/usr/local/bin/chromedriver'}\n",
    "browser = Browser('chrome', **executable_path, headless=False)"
   ]
  },
  {
   "cell_type": "code",
   "execution_count": 113,
   "metadata": {},
   "outputs": [],
   "source": [
    "url = 'https://www.jpl.nasa.gov/spaceimages/?search=&category=Mars'\n",
    "browser.visit(url)"
   ]
  },
  {
   "cell_type": "code",
   "execution_count": 114,
   "metadata": {},
   "outputs": [],
   "source": [
    "for x in range(50):\n",
    "    # HTML object\n",
    "    html = browser.html\n",
    "    # Parse HTML with Beautiful Soup\n",
    "    soup = bs(html, 'html.parser')\n",
    "    # Retrieve all elements that contain book information\n",
    "    featured_image_url = \"https://jpl.nasa.gov/spaceimages/images/mediumsize/PIA22893_ip.jpg\""
   ]
  },
  {
   "cell_type": "code",
   "execution_count": 115,
   "metadata": {},
   "outputs": [],
   "source": [
    "# MARS WEATHER\n",
    "\n",
    "mars_weather_url = 'https://twitter.com/MarsWxReport'\n",
    "browser.visit(mars_weather_url)"
   ]
  },
  {
   "cell_type": "code",
   "execution_count": 116,
   "metadata": {},
   "outputs": [],
   "source": [
    "html_mars_weather = browser.html\n",
    "\n",
    "soup = bs(html_mars_weather, 'html.parser')"
   ]
  },
  {
   "cell_type": "code",
   "execution_count": 117,
   "metadata": {
    "collapsed": true
   },
   "outputs": [
    {
     "data": {
      "text/plain": [
       "[<div class=\"js-tweet-text-container\">\n",
       "<p class=\"TweetTextSize TweetTextSize--normal js-tweet-text tweet-text\" data-aria-label-part=\"0\" lang=\"en\">InSight sol 261 (2019-08-21) low -102.4ºC (-152.4ºF) high -26.6ºC (-15.8ºF)\n",
       "winds from the SSE at 4.9 m/s (11.0 mph) gusting to 16.0 m/s (35.8 mph)\n",
       "pressure at 7.70 hPa<a class=\"twitter-timeline-link u-hidden\" data-pre-embedded=\"true\" dir=\"ltr\" href=\"https://t.co/MhPPOHJg3m\">pic.twitter.com/MhPPOHJg3m</a></p>\n",
       "</div>, <div class=\"js-tweet-text-container\">\n",
       "<p class=\"TweetTextSize TweetTextSize--normal js-tweet-text tweet-text\" data-aria-label-part=\"0\" lang=\"en\">InSight sol 260 (2019-08-20) low -101.7ºC (-151.1ºF) high -28.6ºC (-19.5ºF)\n",
       "pressure at 7.60 hPa</p>\n",
       "</div>, <div class=\"js-tweet-text-container\">\n",
       "<p class=\"TweetTextSize TweetTextSize--normal js-tweet-text tweet-text\" data-aria-label-part=\"0\" lang=\"en\">InSight sol 259 (2019-08-19) low -101.0ºC (-149.8ºF) high -27.1ºC (-16.9ºF)\n",
       "winds from the SW at 4.3 m/s (9.6 mph) gusting to 17.6 m/s (39.4 mph)\n",
       "pressure at 7.60 hPa</p>\n",
       "</div>, <div class=\"js-tweet-text-container\">\n",
       "<p class=\"TweetTextSize TweetTextSize--normal js-tweet-text tweet-text\" data-aria-label-part=\"0\" lang=\"en\">InSight sol 258 (2019-08-18) low -100.0ºC (-148.1ºF) high -26.2ºC (-15.2ºF)\n",
       "winds from the SSE at 5.3 m/s (11.9 mph) gusting to 16.8 m/s (37.6 mph)\n",
       "pressure at 7.60 hPa<a class=\"twitter-timeline-link u-hidden\" data-pre-embedded=\"true\" dir=\"ltr\" href=\"https://t.co/5nCVjcsmlZ\">pic.twitter.com/5nCVjcsmlZ</a></p>\n",
       "</div>, <div class=\"js-tweet-text-container\">\n",
       "<p class=\"TweetTextSize TweetTextSize--normal js-tweet-text tweet-text\" data-aria-label-part=\"0\" lang=\"en\">InSight sol 257 (2019-08-17) low -100.2ºC (-148.4ºF) high -26.5ºC (-15.7ºF)\n",
       "winds from the SSE at 4.4 m/s (9.8 mph) gusting to 17.1 m/s (38.2 mph)\n",
       "pressure at 7.60 hPa<a class=\"twitter-timeline-link u-hidden\" data-pre-embedded=\"true\" dir=\"ltr\" href=\"https://t.co/hBQzJWARH0\">pic.twitter.com/hBQzJWARH0</a></p>\n",
       "</div>, <div class=\"js-tweet-text-container\">\n",
       "<p class=\"TweetTextSize TweetTextSize--normal js-tweet-text tweet-text\" data-aria-label-part=\"0\" lang=\"en\">InSight sol 256 (2019-08-16) low -101.7ºC (-151.1ºF) high -25.6ºC (-14.2ºF)\n",
       "winds from the SW at 4.2 m/s (9.4 mph) gusting to 17.9 m/s (40.0 mph)\n",
       "pressure at 7.60 hPa</p>\n",
       "</div>, <div class=\"js-tweet-text-container\">\n",
       "<p class=\"TweetTextSize TweetTextSize--normal js-tweet-text tweet-text\" data-aria-label-part=\"0\" lang=\"en\">InSight sol 255 (2019-08-15) low -100.1ºC (-148.1ºF) high -24.7ºC (-12.4ºF)\n",
       "winds from the SSW at 4.5 m/s (10.0 mph) gusting to 17.3 m/s (38.6 mph)\n",
       "pressure at 7.60 hPa</p>\n",
       "</div>, <div class=\"js-tweet-text-container\">\n",
       "<p class=\"TweetTextSize TweetTextSize--normal js-tweet-text tweet-text\" data-aria-label-part=\"0\" lang=\"en\">InSight sol 254 (2019-08-14) low -99.3ºC (-146.7ºF) high -25.9ºC (-14.6ºF)\n",
       "winds from the SE at 4.9 m/s (10.9 mph) gusting to 18.1 m/s (40.5 mph)\n",
       "pressure at 7.60 hPa</p>\n",
       "</div>, <div class=\"js-tweet-text-container\">\n",
       "<p class=\"TweetTextSize TweetTextSize--normal js-tweet-text tweet-text\" data-aria-label-part=\"4\" lang=\"en\">\"Dusty\" the Earthbound twin (triplet?) of <a class=\"twitter-atreply pretty-link js-nav\" data-mentioned-user-id=\"15165502\" dir=\"ltr\" href=\"/MarsRovers\"><s>@</s><b>MarsRovers</b></a>  Opportunity &amp; Spirit is heading for a new home at the National <a class=\"twitter-atreply pretty-link js-nav\" data-mentioned-user-id=\"14848513\" dir=\"ltr\" href=\"/airandspace\"><s>@</s><b>airandspace</b></a> Museum.<a class=\"twitter-timeline-link u-hidden\" data-expanded-url=\"https://twitter.com/AstroStaab/status/1162103864608169984\" dir=\"ltr\" href=\"https://t.co/58Uvs1nGY2\" rel=\"nofollow noopener\" target=\"_blank\" title=\"https://twitter.com/AstroStaab/status/1162103864608169984\"><span class=\"tco-ellipsis\"></span><span class=\"invisible\">https://</span><span class=\"js-display-url\">twitter.com/AstroStaab/sta</span><span class=\"invisible\">tus/1162103864608169984</span><span class=\"tco-ellipsis\"><span class=\"invisible\"> </span>…</span></a></p>\n",
       "</div>, <div class=\"js-tweet-text-container\">\n",
       "<p class=\"TweetTextSize TweetTextSize--normal js-tweet-text tweet-text\" data-aria-label-part=\"0\" lang=\"en\">InSight sol 253 (2019-08-13) low -100.0ºC (-148.1ºF) high -25.5ºC (-13.9ºF)\n",
       "winds from the SSE at 4.6 m/s (10.3 mph) gusting to 16.4 m/s (36.6 mph)\n",
       "pressure at 7.60 hPa<a class=\"twitter-timeline-link u-hidden\" data-pre-embedded=\"true\" dir=\"ltr\" href=\"https://t.co/OnwaHAaYRH\">pic.twitter.com/OnwaHAaYRH</a></p>\n",
       "</div>, <div class=\"js-tweet-text-container\">\n",
       "<p class=\"TweetTextSize TweetTextSize--normal js-tweet-text tweet-text\" data-aria-label-part=\"0\" lang=\"en\">InSight sol 252 (2019-08-12) low -100.8ºC (-149.4ºF) high -26.0ºC (-14.8ºF)\n",
       "winds from the SSW at 4.4 m/s (9.8 mph) gusting to 18.3 m/s (40.9 mph)\n",
       "pressure at 7.60 hPa<a class=\"twitter-timeline-link u-hidden\" data-pre-embedded=\"true\" dir=\"ltr\" href=\"https://t.co/WY3JQBXVuU\">pic.twitter.com/WY3JQBXVuU</a></p>\n",
       "</div>, <div class=\"js-tweet-text-container\">\n",
       "<p class=\"TweetTextSize TweetTextSize--normal js-tweet-text tweet-text\" data-aria-label-part=\"0\" lang=\"en\">I’d say a plutonium-238 powered RTG qualifies the Curiosity and Mars2020 rovers as alternative fuel vehicles. You can explore these and other missions, rockets and more with JPL’s Spacecraft AR for IOS and Androhttps://www.jpl.nasa.gov/apps/<a class=\"twitter-timeline-link u-hidden\" data-pre-embedded=\"true\" dir=\"ltr\" href=\"https://t.co/f4SheTlQyY\">pic.twitter.com/f4SheTlQyY</a></p>\n",
       "</div>, <div class=\"js-tweet-text-container\">\n",
       "<p class=\"TweetTextSize TweetTextSize--normal js-tweet-text tweet-text\" data-aria-label-part=\"0\" lang=\"en\">InSight sol 251 (2019-08-11) low -101.0ºC (-149.7ºF) high -26.5ºC (-15.8ºF)\n",
       "winds from the SSE at 4.1 m/s (9.2 mph) gusting to 17.5 m/s (39.1 mph)\n",
       "pressure at 7.60 hPa<a class=\"twitter-timeline-link u-hidden\" data-pre-embedded=\"true\" dir=\"ltr\" href=\"https://t.co/9mgFzHl8t3\">pic.twitter.com/9mgFzHl8t3</a></p>\n",
       "</div>, <div class=\"js-tweet-text-container\">\n",
       "<p class=\"TweetTextSize TweetTextSize--normal js-tweet-text tweet-text\" data-aria-label-part=\"0\" lang=\"en\">InSight sol 250 (2019-08-10) low -100.0ºC (-148.1ºF) high -26.2ºC (-15.1ºF)\n",
       "winds from the SSE at 4.4 m/s (9.8 mph) gusting to 16.2 m/s (36.2 mph)\n",
       "pressure at 7.60 hPa<a class=\"twitter-timeline-link u-hidden\" data-pre-embedded=\"true\" dir=\"ltr\" href=\"https://t.co/9sZRRUi3dm\">pic.twitter.com/9sZRRUi3dm</a></p>\n",
       "</div>, <div class=\"js-tweet-text-container\">\n",
       "<p class=\"TweetTextSize TweetTextSize--normal js-tweet-text tweet-text\" data-aria-label-part=\"0\" lang=\"en\">InSight sol 249 (2019-08-09) low -98.8ºC (-145.8ºF) high -26.0ºC (-14.8ºF)\n",
       "winds from the SSE at 4.4 m/s (9.8 mph) gusting to 17.5 m/s (39.1 mph)\n",
       "pressure at 7.60 hPa<a class=\"twitter-timeline-link u-hidden\" data-pre-embedded=\"true\" dir=\"ltr\" href=\"https://t.co/jDOsvHTwYg\">pic.twitter.com/jDOsvHTwYg</a></p>\n",
       "</div>, <div class=\"js-tweet-text-container\">\n",
       "<p class=\"TweetTextSize TweetTextSize--normal js-tweet-text tweet-text\" data-aria-label-part=\"0\" lang=\"en\">InSight sol 248 (2019-08-08) low -99.6ºC (-147.3ºF) high -25.8ºC (-14.4ºF)\n",
       "winds from the SSE at 4.5 m/s (10.0 mph) gusting to 16.7 m/s (37.3 mph)\n",
       "pressure at 7.60 hPa</p>\n",
       "</div>, <div class=\"js-tweet-text-container\">\n",
       "<p class=\"TweetTextSize TweetTextSize--normal js-tweet-text tweet-text\" data-aria-label-part=\"0\" lang=\"en\">InSight sol 247 (2019-08-07) low -100.4ºC (-148.7ºF) high -26.5ºC (-15.8ºF)\n",
       "winds from the SSE at 4.6 m/s (10.3 mph) gusting to 16.8 m/s (37.6 mph)\n",
       "pressure at 7.60 hPa</p>\n",
       "</div>, <div class=\"js-tweet-text-container\">\n",
       "<p class=\"TweetTextSize TweetTextSize--normal js-tweet-text tweet-text\" data-aria-label-part=\"0\" lang=\"en\">InSight sol 246 (2019-08-06) low -99.4ºC (-146.8ºF) high -26.5ºC (-15.7ºF)\n",
       "winds from the SSE at 5.3 m/s (11.7 mph) gusting to 18.1 m/s (40.4 mph)</p>\n",
       "</div>, <div class=\"js-tweet-text-container\">\n",
       "<p class=\"TweetTextSize TweetTextSize--normal js-tweet-text tweet-text\" data-aria-label-part=\"0\" lang=\"en\">InSight sol 245 (2019-08-05) low -99.9ºC (-147.8ºF) high -25.6ºC (-14.1ºF)\n",
       "winds from the SSE at 4.6 m/s (10.2 mph) gusting to 17.7 m/s (39.5 mph)\n",
       "pressure at 7.60 hPa<a class=\"twitter-timeline-link u-hidden\" data-pre-embedded=\"true\" dir=\"ltr\" href=\"https://t.co/kLqykpNHtR\">pic.twitter.com/kLqykpNHtR</a></p>\n",
       "</div>, <div class=\"js-tweet-text-container\">\n",
       "<p class=\"TweetTextSize TweetTextSize--normal js-tweet-text tweet-text\" data-aria-label-part=\"0\" lang=\"en\">InSight sol 244 (2019-08-03) low -100.3ºC (-148.6ºF) high -27.1ºC (-16.8ºF)\n",
       "winds from the SSE at 4.4 m/s (9.9 mph) gusting to 15.9 m/s (35.6 mph)\n",
       "pressure at 7.60 hPa</p>\n",
       "</div>]"
      ]
     },
     "execution_count": 117,
     "metadata": {},
     "output_type": "execute_result"
    }
   ],
   "source": [
    "mars_weather_tweets = soup.find_all('div', class_='js-tweet-text-container')\n",
    "mars_weather_tweets"
   ]
  },
  {
   "cell_type": "code",
   "execution_count": 118,
   "metadata": {},
   "outputs": [
    {
     "name": "stdout",
     "output_type": "stream",
     "text": [
      "InSight sol 261 (2019-08-21) low -102.4ºC (-152.4ºF) high -26.6ºC (-15.8ºF)\n",
      "winds from the SSE at 4.9 m/s (11.0 mph) gusting to 16.0 m/s (35.8 mph)\n",
      "pressure at 7.70 hPapic.twitter.com/MhPPOHJg3m\n"
     ]
    }
   ],
   "source": [
    "for latest_weather in mars_weather_tweets:\n",
    "    weather_tweet = latest_weather.find('p').text\n",
    "    if 'Sol' and 'pressure' in weather_tweet:\n",
    "        print(weather_tweet)\n",
    "        break\n",
    "    else:\n",
    "        pass"
   ]
  },
  {
   "cell_type": "code",
   "execution_count": null,
   "metadata": {},
   "outputs": [],
   "source": [
    "# MARS FACTS\n",
    "\n"
   ]
  }
 ],
 "metadata": {
  "kernelspec": {
   "display_name": "Python 3",
   "language": "python",
   "name": "python3"
  },
  "language_info": {
   "codemirror_mode": {
    "name": "ipython",
    "version": 3
   },
   "file_extension": ".py",
   "mimetype": "text/x-python",
   "name": "python",
   "nbconvert_exporter": "python",
   "pygments_lexer": "ipython3",
   "version": "3.6.8"
  }
 },
 "nbformat": 4,
 "nbformat_minor": 2
}
